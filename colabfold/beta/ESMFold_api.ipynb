{
  "nbformat": 4,
  "nbformat_minor": 0,
  "metadata": {
    "colab": {
      "provenance": [],
      "authorship_tag": "ABX9TyOTvNvYm0TYMGMVWT4fM7rz",
      "include_colab_link": true
    },
    "kernelspec": {
      "name": "python3",
      "display_name": "Python 3"
    },
    "language_info": {
      "name": "python"
    }
  },
  "cells": [
    {
      "cell_type": "markdown",
      "metadata": {
        "id": "view-in-github",
        "colab_type": "text"
      },
      "source": [
        "<a href=\"https://colab.research.google.com/github/sokrypton/ColabFold/blob/main/beta/ESMFold_api.ipynb\" target=\"_parent\"><img src=\"https://colab.research.google.com/assets/colab-badge.svg\" alt=\"Open In Colab\"/></a>"
      ]
    },
    {
      "cell_type": "markdown",
      "source": [
        "#**ESMFold API**\n",
        "for more details see: [Github](https://github.com/facebookresearch/esm/tree/main/esm), [Preprint](https://www.biorxiv.org/content/10.1101/2022.07.20.500902v1)\n",
        "\n",
        "#### **Tips and Instructions**\n",
        "- click the little ▶ play icon to the left of each cell below.\n",
        "\n",
        "#### **Limitations**\n",
        "- max total length=400\n",
        "- for lengths > 400, try our [colab notebook](https://colab.research.google.com/github/sokrypton/ColabFold/blob/main/ESMFold.ipynb)\n",
        "---"
      ],
      "metadata": {
        "id": "v2jU2RLyacXQ"
      }
    },
    {
      "cell_type": "code",
      "execution_count": null,
      "metadata": {
        "cellView": "form",
        "id": "M8p9x4xCXCrw"
      },
      "outputs": [],
      "source": [
        "#@title run **ESMFold**\n",
        "import os, time, re, requests\n",
        "if not os.path.isfile(\"colabfold.py\"):\n",
        "  os.system(\"pip -q install pyppeteer nest_asyncio\")\n",
        "  import asyncio\n",
        "  import nest_asyncio\n",
        "  from pyppeteer import launch\n",
        "  import base64\n",
        "\n",
        "  # Apply nest_asyncio to enable nested event loops\n",
        "  nest_asyncio.apply()\n",
        "\n",
        "  async def fetch_blob_content(page, blob_url):\n",
        "    blob_to_base64 = \"\"\"\n",
        "    async (blobUrl) => {\n",
        "        const blob = await fetch(blobUrl).then(r => r.blob());\n",
        "        return new Promise((resolve) => {\n",
        "            const reader = new FileReader();\n",
        "            reader.onloadend = () => resolve(reader.result);\n",
        "            reader.readAsDataURL(blob);\n",
        "        });\n",
        "    }\n",
        "    \"\"\"\n",
        "    base64_data = await page.evaluate(blob_to_base64, blob_url)\n",
        "    _, encoded = base64_data.split(',', 1)\n",
        "    return base64.b64decode(encoded)\n",
        "\n",
        "  async def extract_pdb_file_download_link_and_content(url):\n",
        "    browser = await launch(headless=True, args=['--no-sandbox', '--disable-setuid-sandbox'])\n",
        "    page = await browser.newPage()\n",
        "    await page.goto(url, {'waitUntil': 'networkidle0'})\n",
        "    elements = await page.querySelectorAll('a.btn.bg-purple')\n",
        "    for element in elements:\n",
        "        href = await page.evaluate('(element) => element.getAttribute(\"href\")', element)\n",
        "        if 'blob:https://esmatlas.com/' in href:\n",
        "            content = await fetch_blob_content(page, href)\n",
        "            await browser.close()\n",
        "            return href, content\n",
        "    await browser.close()\n",
        "    return \"No PDB file link found.\", None\n",
        "\n",
        "  def esmfold_api(sequence):\n",
        "    url = f'https://esmatlas.com/resources/fold/result?fasta_header=%3Eunnamed&sequence={sequence}'\n",
        "    result = asyncio.get_event_loop().run_until_complete(extract_pdb_file_download_link_and_content(url))\n",
        "    if result[1]:\n",
        "      pdb_str = result[1].decode('utf-8')\n",
        "      return pdb_str\n",
        "    else:\n",
        "      return \"Failed to retrieve PDB content.\"\n",
        "\n",
        "  os.system(\"pip -q install py3Dmol\")\n",
        "  os.system(\"wget -qnc https://raw.githubusercontent.com/sokrypton/ColabFold/main/beta/colabfold.py\")\n",
        "  os.system(\"mkdir -p tmp\")\n",
        "\n",
        "import colabfold as cf\n",
        "\n",
        "\n",
        "sequence = \"GWSTELEKHREELKEFLKKEGITNVEIRIDNGRLEVRVEGGTERLKRFLEELRQKLEKKGYTVDIKIE\" #@param {type:\"string\"}\n",
        "sequence = re.sub(\"[^A-Z]\", \"\", sequence.upper())\n",
        "#assert len(sequence) <= 400, \"error: max length supported is 400\"\n",
        "hash = cf.get_hash(sequence)[:5]\n",
        "pdb_filename = f\"tmp/prediction_{hash}.pdb\"\n",
        "if not os.path.isfile(pdb_filename):\n",
        "  pdb_str = esmfold_api(sequence)\n",
        "  with open(pdb_filename,\"w\") as out:\n",
        "    out.write(pdb_str)\n",
        "\n",
        "color = \"confidence\" #@param [\"confidence\", \"rainbow\"]\n",
        "if color == \"confidence\": color = \"lDDT\"\n",
        "show_sidechains = False #@param {type:\"boolean\"}\n",
        "show_mainchains = False #@param {type:\"boolean\"}\n",
        "v = cf.show_pdb(pdb_filename,\n",
        "                show_sidechains,\n",
        "                show_mainchains, color,\n",
        "                color_HP=True,\n",
        "                size=(800,480),\n",
        "                vmin=0.5, vmax=0.9)\n",
        "v.setHoverable({}, True,\n",
        "               '''function(atom,viewer,event,container){if(!atom.label){atom.label=viewer.addLabel(\"      \"+atom.resn+\":\"+atom.resi,{position:atom,backgroundColor:'mintcream',fontColor:'black'});}}''',\n",
        "               '''function(atom,viewer){if(atom.label){viewer.removeLabel(atom.label);delete atom.label;}}''')\n",
        "v.show()\n",
        "if color == \"lDDT\":\n",
        "  cf.plot_plddt_legend().show()"
      ]
    },
    {
      "cell_type": "code",
      "source": [
        "#@title download prediction\n",
        "from google.colab import files\n",
        "files.download(pdb_filename)"
      ],
      "metadata": {
        "cellView": "form",
        "id": "fcR0YV4IaRpU"
      },
      "execution_count": null,
      "outputs": []
    }
  ]
}